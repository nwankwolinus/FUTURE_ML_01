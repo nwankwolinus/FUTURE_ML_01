{
 "cells": [
  {
   "cell_type": "code",
   "execution_count": 1,
   "id": "2f267d24",
   "metadata": {},
   "outputs": [
    {
     "name": "stderr",
     "output_type": "stream",
     "text": [
      "/Users/mac/Library/Python/3.11/lib/python/site-packages/tqdm/auto.py:21: TqdmWarning: IProgress not found. Please update jupyter and ipywidgets. See https://ipywidgets.readthedocs.io/en/stable/user_install.html\n",
      "  from .autonotebook import tqdm as notebook_tqdm\n"
     ]
    },
    {
     "ename": "NameError",
     "evalue": "name 'df' is not defined",
     "output_type": "error",
     "traceback": [
      "\u001b[31m---------------------------------------------------------------------------\u001b[39m",
      "\u001b[31mNameError\u001b[39m                                 Traceback (most recent call last)",
      "\u001b[36mCell\u001b[39m\u001b[36m \u001b[39m\u001b[32mIn[1]\u001b[39m\u001b[32m, line 8\u001b[39m\n\u001b[32m      5\u001b[39m all_forecasts = []\n\u001b[32m      7\u001b[39m \u001b[38;5;66;03m# Get unique store IDs\u001b[39;00m\n\u001b[32m----> \u001b[39m\u001b[32m8\u001b[39m store_ids = \u001b[43mdf\u001b[49m[\u001b[33m'\u001b[39m\u001b[33mStore\u001b[39m\u001b[33m'\u001b[39m].unique()\n\u001b[32m     10\u001b[39m \u001b[38;5;66;03m# Loop through each store\u001b[39;00m\n\u001b[32m     11\u001b[39m \u001b[38;5;28;01mfor\u001b[39;00m store \u001b[38;5;129;01min\u001b[39;00m tqdm(store_ids, desc=\u001b[33m\"\u001b[39m\u001b[33mProcessing stores\u001b[39m\u001b[33m\"\u001b[39m):\n\u001b[32m     12\u001b[39m \n\u001b[32m     13\u001b[39m     \u001b[38;5;66;03m# Filter data for the current store\u001b[39;00m\n",
      "\u001b[31mNameError\u001b[39m: name 'df' is not defined"
     ]
    }
   ],
   "source": [
    "from prophet import Prophet\n",
    "from tqdm import tqdm\n",
    "\n",
    "# Create a container for all forecasts\n",
    "all_forecasts = []\n",
    "\n",
    "# Get unique store IDs\n",
    "store_ids = df['Store'].unique()\n",
    "\n",
    "# Loop through each store\n",
    "for store in tqdm(store_ids, desc=\"Processing stores\"):\n",
    "\n",
    "    # Filter data for the current store\n",
    "    df_store = df[df['Store'] == store][['Date', 'Sales']].copy()\n",
    "    \n",
    "    # Rename for Prophet\n",
    "    df_store = df_store.rename(columns={'Date': 'ds', 'Sales': 'y'})\n",
    "    \n",
    "    # Skip stores with too few data points\n",
    "    if df_store.shape[0] < 100:\n",
    "        continue\n",
    "\n",
    "    # Initialize Prophet model\n",
    "    model = Prophet(\n",
    "        yearly_seasonality=True,\n",
    "        weekly_seasonality=True,\n",
    "        daily_seasonality=False\n",
    "    )\n",
    "    \n",
    "    # Fit the model\n",
    "    model.fit(df_store)\n",
    "    \n",
    "    # Create future dataframe (e.g., 90 days)\n",
    "    future = model.make_future_dataframe(periods=90)\n",
    "    \n",
    "    # Forecast\n",
    "    forecast = model.predict(future)\n",
    "    \n",
    "    # Add store ID to forecast\n",
    "    forecast['Store'] = store\n",
    "    \n",
    "    # Append to master list\n",
    "    all_forecasts.append(forecast[['ds', 'yhat', 'Store']])\n"
   ]
  }
 ],
 "metadata": {
  "kernelspec": {
   "display_name": "Python 3",
   "language": "python",
   "name": "python3"
  },
  "language_info": {
   "codemirror_mode": {
    "name": "ipython",
    "version": 3
   },
   "file_extension": ".py",
   "mimetype": "text/x-python",
   "name": "python",
   "nbconvert_exporter": "python",
   "pygments_lexer": "ipython3",
   "version": "3.11.9"
  }
 },
 "nbformat": 4,
 "nbformat_minor": 5
}
